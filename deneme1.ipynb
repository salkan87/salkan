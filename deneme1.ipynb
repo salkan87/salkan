{
  "nbformat": 4,
  "nbformat_minor": 0,
  "metadata": {
    "colab": {
      "provenance": [],
      "authorship_tag": "ABX9TyOy3cdkxtWb2xbYjYNjA9+H",
      "include_colab_link": true
    },
    "kernelspec": {
      "name": "python3",
      "display_name": "Python 3"
    },
    "language_info": {
      "name": "python"
    }
  },
  "cells": [
    {
      "cell_type": "markdown",
      "metadata": {
        "id": "view-in-github",
        "colab_type": "text"
      },
      "source": [
        "<a href=\"https://colab.research.google.com/github/salkan87/salkan/blob/main/deneme1.ipynb\" target=\"_parent\"><img src=\"https://colab.research.google.com/assets/colab-badge.svg\" alt=\"Open In Colab\"/></a>"
      ]
    },
    {
      "cell_type": "code",
      "execution_count": null,
      "metadata": {
        "id": "QLmSe9HsVc8S",
        "outputId": "05b6a22a-47af-405c-8f35-1989e1ae4509",
        "colab": {
          "base_uri": "https://localhost:8080/"
        }
      },
      "outputs": [
        {
          "output_type": "stream",
          "name": "stdout",
          "text": [
            "Alt satıra geçmek istiyorum \n",
            " Alt satırdayım\n",
            "Alt satıra geçmek istiyorum\n",
            "   3 tırnak Alt satırdayım\n",
            "merhaba*iyi günler!nasılsın\n",
            "hi\n",
            "Python Dersine*merhaba\n",
            "Python Dersine-merhaba-HOŞGELDİNİZ\n",
            "P*y*t*h*o*n* *D*e*r*s*i*n*e*m*e*r*h*a*b*a\n",
            "P-y-t-h-o-n- -D-e-r-s-i-n-e-merhaba-H-O-Ş-G-E-L-D-İ-N-İ-Z\n",
            "Alt satıra geçmek istiyorum \n",
            "Alt satırdayım\n",
            "Alt satıra geçmek istiyorum \n",
            "Alt satırdayım\n",
            "alt satıra geçmek istiyorum \n",
            "alt satırdayım\n",
            "ALT SATIRA GEÇMEK ISTIYORUM \n",
            "ALT SATIRDAYIM\n",
            "Elt satıra geçmek istiyorum \n",
            "Elt satırdayım\n"
          ]
        }
      ],
      "source": [
        "print('Alt satıra geçmek istiyorum \\n Alt satırdayım')\n",
        "\n",
        "print('''Alt satıra geçmek istiyorum\n",
        "   3 tırnak Alt satırdayım''')\n",
        "\n",
        "'''\n",
        "sfskjfksf\n",
        "sfsfskf\n",
        "sjfjsf\n",
        "'''\n",
        "#end fonksiyonu ile iki değer yan yana yazdırılır\n",
        "print('merhaba', end='*')\n",
        "print('iyi günler', end='!')\n",
        "print('nasılsın',end='\\n')\n",
        "print('hi')\n",
        "\n",
        "#sep fonksiyonu\n",
        "print('Python Dersine','merhaba',sep='*')\n",
        "print('Python Dersine','merhaba','HOŞGELDİNİZ',sep='-')\n",
        "\n",
        "\n",
        "#* fonksiyonu\n",
        "print(*'Python Dersine',*'merhaba',sep='*')\n",
        "print(*'Python Dersine','merhaba',*'HOŞGELDİNİZ',sep='-')\n",
        "\n",
        "#strip,lower,upper,replace fonksiyonu\n",
        "cumle='Alt satıra geçmek istiyorum \\nAlt satırdayım'\n",
        "print(cumle)\n",
        "print(cumle.strip()) #??\n",
        "print(cumle.lower())\n",
        "print(cumle.upper())\n",
        "print(cumle.replace('A','E'))\n"
      ]
    },
    {
      "cell_type": "code",
      "source": [],
      "metadata": {
        "id": "I83SKwVzhgqN"
      },
      "execution_count": null,
      "outputs": []
    },
    {
      "cell_type": "markdown",
      "source": [],
      "metadata": {
        "id": "ayPHnXQHhg5J"
      }
    },
    {
      "cell_type": "code",
      "source": [],
      "metadata": {
        "id": "L75bT5FohhLx"
      },
      "execution_count": null,
      "outputs": []
    },
    {
      "cell_type": "markdown",
      "source": [
        "# Yeni Bölüm"
      ],
      "metadata": {
        "id": "kN8ylPH1hiTK"
      }
    },
    {
      "cell_type": "markdown",
      "source": [
        "# Yeni Bölüm"
      ],
      "metadata": {
        "id": "s3zpRyYdhiu-"
      }
    },
    {
      "cell_type": "markdown",
      "source": [
        "# Yeni Bölüm"
      ],
      "metadata": {
        "id": "Cxu0S5y1WF1N"
      }
    },
    {
      "cell_type": "markdown",
      "source": [
        "# Yeni Bölüm"
      ],
      "metadata": {
        "id": "6wxE_pakhlhA"
      }
    },
    {
      "cell_type": "markdown",
      "source": [],
      "metadata": {
        "id": "0VRrATwjWItR"
      }
    },
    {
      "cell_type": "markdown",
      "source": [],
      "metadata": {
        "id": "BuA-Pp04WJSa"
      }
    },
    {
      "cell_type": "code",
      "source": [],
      "metadata": {
        "id": "GnbKYrf2WJqT"
      },
      "execution_count": null,
      "outputs": []
    }
  ]
}