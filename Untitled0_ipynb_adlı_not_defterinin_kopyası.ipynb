{
  "nbformat": 4,
  "nbformat_minor": 0,
  "metadata": {
    "colab": {
      "provenance": [],
      "toc_visible": true,
      "authorship_tag": "ABX9TyPyDpVQhyYr5aP03+m7X+Qm",
      "include_colab_link": true
    },
    "kernelspec": {
      "name": "python3",
      "display_name": "Python 3"
    },
    "language_info": {
      "name": "python"
    }
  },
  "cells": [
    {
      "cell_type": "markdown",
      "metadata": {
        "id": "view-in-github",
        "colab_type": "text"
      },
      "source": [
        "<a href=\"https://colab.research.google.com/github/salkan87/salkan/blob/main/Untitled0_ipynb_adl%C4%B1_not_defterinin_kopyas%C4%B1.ipynb\" target=\"_parent\"><img src=\"https://colab.research.google.com/assets/colab-badge.svg\" alt=\"Open In Colab\"/></a>"
      ]
    },
    {
      "cell_type": "code",
      "execution_count": null,
      "metadata": {
        "id": "QLmSe9HsVc8S"
      },
      "outputs": [],
      "source": [
        "print('Alt satıra geçmek istiyorum \\n Alt satırdayım')\n",
        "\n",
        "print('''Alt satıra geçmek istiyorum\n",
        "   3 tırnak Alt satırdayım''')\n",
        "\n",
        "'''\n",
        "sfskjfksf\n",
        "sfsfskf\n",
        "sjfjsf\n",
        "'''\n",
        "#end fonksiyonu ile iki değer yan yana yazdırılır\n",
        "print('merhaba', end='*')\n",
        "print('iyi günler', end='!')\n",
        "print('nasılsın',end='\\n')\n",
        "print('hi')\n",
        "\n",
        "#sep fonksiyonu\n",
        "print('Python Dersine','merhaba',sep='*')\n",
        "print('Python Dersine','merhaba','HOŞGELDİNİZ',sep='-')\n",
        "\n",
        "\n",
        "#* fonksiyonu\n",
        "print(*'Python Dersine',*'merhaba',sep='*')\n",
        "print(*'Python Dersine','merhaba',*'HOŞGELDİNİZ',sep='-')\n",
        "\n",
        "#strip,lower,upper,replace fonksiyonu\n",
        "cumle='Alt satıra geçmek istiyorum \\nAlt satırdayım'\n",
        "print(cumle)\n",
        "print(cumle.strip()) #??\n",
        "print(cumle.lower())\n",
        "print(cumle.upper())\n",
        "print(cumle.replace('A','E'))\n"
      ]
    },
    {
      "cell_type": "markdown",
      "source": [
        "# Yeni Bölüm"
      ],
      "metadata": {
        "id": "Cxu0S5y1WF1N"
      }
    },
    {
      "cell_type": "markdown",
      "source": [],
      "metadata": {
        "id": "0VRrATwjWItR"
      }
    },
    {
      "cell_type": "markdown",
      "source": [],
      "metadata": {
        "id": "BuA-Pp04WJSa"
      }
    },
    {
      "cell_type": "code",
      "source": [],
      "metadata": {
        "id": "GnbKYrf2WJqT"
      },
      "execution_count": null,
      "outputs": []
    }
  ]
}